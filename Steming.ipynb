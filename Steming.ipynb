{
  "nbformat": 4,
  "nbformat_minor": 0,
  "metadata": {
    "colab": {
      "name": "Steming.ipynb",
      "version": "0.3.2",
      "provenance": [],
      "collapsed_sections": [],
      "include_colab_link": true
    },
    "kernelspec": {
      "name": "python3",
      "display_name": "Python 3"
    }
  },
  "cells": [
    {
      "cell_type": "markdown",
      "metadata": {
        "id": "view-in-github",
        "colab_type": "text"
      },
      "source": [
        "<a href=\"https://colab.research.google.com/github/ayushsoni9784/Regression-ML/blob/master/Steming.ipynb\" target=\"_parent\"><img src=\"https://colab.research.google.com/assets/colab-badge.svg\" alt=\"Open In Colab\"/></a>"
      ]
    },
    {
      "cell_type": "code",
      "metadata": {
        "id": "S6K3TCBvd1tK",
        "colab_type": "code",
        "colab": {}
      },
      "source": [
        "from nltk import stem \n",
        "from nltk.stem import PorterStemmer # for stemming \n",
        "from nltk.stem import WordNetLemmatizer # for lemma\n",
        "import time"
      ],
      "execution_count": 0,
      "outputs": []
    },
    {
      "cell_type": "code",
      "metadata": {
        "id": "jm3VhOhFeg7e",
        "colab_type": "code",
        "colab": {}
      },
      "source": [
        "# streaming\n",
        "port=PorterStemmer()"
      ],
      "execution_count": 0,
      "outputs": []
    },
    {
      "cell_type": "code",
      "metadata": {
        "id": "_-jnSfIKeokk",
        "colab_type": "code",
        "colab": {
          "base_uri": "https://localhost:8080/",
          "height": 191
        },
        "outputId": "ce7eb219-258b-4912-e13d-5e6e07261f34"
      },
      "source": [
        "#nword suppy\n",
        "for i in ['going','goes','go','intelligent','intelligence','intelligently','feet','foot','cars','car'] :\n",
        "  print(port.stem(i))\n",
        "  time.sleep(2)"
      ],
      "execution_count": 10,
      "outputs": [
        {
          "output_type": "stream",
          "text": [
            "go\n",
            "goe\n",
            "go\n",
            "intellig\n",
            "intellig\n",
            "intellig\n",
            "feet\n",
            "foot\n",
            "car\n",
            "car\n"
          ],
          "name": "stdout"
        }
      ]
    },
    {
      "cell_type": "code",
      "metadata": {
        "id": "F6hg5NjpfIoL",
        "colab_type": "code",
        "colab": {}
      },
      "source": [
        ""
      ],
      "execution_count": 0,
      "outputs": []
    }
  ]
}